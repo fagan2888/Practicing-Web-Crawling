{
 "cells": [
  {
   "cell_type": "markdown",
   "metadata": {},
   "source": [
    "### Crawing Daily Trading Information of Institutions"
   ]
  },
  {
   "cell_type": "code",
   "execution_count": 6,
   "metadata": {},
   "outputs": [
    {
     "name": "stdout",
     "output_type": "stream",
     "text": [
      "{\"stat\":\"OK\",\"title\":\"107年04月03日 三大法人買賣金額統計表\",\"fields\":[\"單位名稱\",\"買進金額\",\"賣出金額\",\"買賣差額\"],\"date\":\"20180403\",\"data\":[[\"自營商(自行買賣)\",\"1,332,075,890\",\"1,527,085,313\",\"-195,009,423\"],[\"自營商(避險)\",\"5,053,878,133\",\"5,848,013,670\",\"-794,135,537\"],[\"投信\",\"877,499,250\",\"1,641,700,150\",\"-764,200,900\"],[\"外資及陸資(不含外資自營商)\",\"26,111,675,637\",\"35,014,554,368\",\"-8,902,878,731\"],[\"外資自營商\",\"236,373,220\",\"52,695,290\",\"183,677,930\"],[\"合計\",\"33,375,128,910\",\"44,031,353,501\",\"-10,656,224,591\"]],\"params\":{\"response\":\"json\",\"dayDate\":\"20180403\",\"weekDate\":\"20180402\",\"monthDate\":\"20180403\",\"type\":\"day\",\"_\":\"1522465284842\",\"controller\":\"fund\",\"format\":null,\"action\":\"BFI82U\",\"lang\":\"zh\"},\"notes\":[\"自營商表示證券自營商專戶。\",\"投信表示本國投資信託基金。\",\"外資及陸資表示依「華僑及外國人投資證券管理辦法」及「大陸地區投資人來臺從事證券投資及期貨交易管理辦法」辦理登記等投資人。\",\"因外資自營商買賣金額已計入自營商買賣金額，故不納入三大法人買賣金額之合計數計算。\",\"本統計資訊含一般、零股、盤後定價、鉅額，不含拍賣、標購。\",\"本資訊以當日原始成交情形統計，不以證券商申報錯帳、更正帳號等調整後資料統計。\",\"外幣成交值係以本公司當日下午3時30分公告匯率換算後加入成交金額。<br>公告匯率請參考本公司首頁>交易資訊>雙幣ETF專區>代號對應及每日公告匯率。\"]}\n"
     ]
    }
   ],
   "source": [
    "import requests\n",
    "from bs4 import BeautifulSoup\n",
    "res = requests.get('http://www.twse.com.tw/fund/BFI82U?response=json&dayDate=&weekDate=&monthDate=&type=day&_=1522465284842')\n",
    "if res.encoding != 'utf-8':\n",
    "    res.encoding = 'utf-8'\n",
    "\n",
    "print(res.text)"
   ]
  },
  {
   "cell_type": "code",
   "execution_count": 26,
   "metadata": {},
   "outputs": [
    {
     "name": "stdout",
     "output_type": "stream",
     "text": [
      "dict_keys(['stat', 'title', 'fields', 'date', 'data', 'params', 'notes'])\n"
     ]
    }
   ],
   "source": [
    "import json\n",
    "dictionary = res.text.replace(\"'\", \"\\\"\")\n",
    "data = json.loads(dictionary)\n",
    "print(data.keys())"
   ]
  },
  {
   "cell_type": "code",
   "execution_count": 27,
   "metadata": {},
   "outputs": [
    {
     "data": {
      "text/html": [
       "<div>\n",
       "<style scoped>\n",
       "    .dataframe tbody tr th:only-of-type {\n",
       "        vertical-align: middle;\n",
       "    }\n",
       "\n",
       "    .dataframe tbody tr th {\n",
       "        vertical-align: top;\n",
       "    }\n",
       "\n",
       "    .dataframe thead th {\n",
       "        text-align: right;\n",
       "    }\n",
       "</style>\n",
       "<table border=\"1\" class=\"dataframe\">\n",
       "  <thead>\n",
       "    <tr style=\"text-align: right;\">\n",
       "      <th></th>\n",
       "      <th>單位名稱</th>\n",
       "      <th>買進金額</th>\n",
       "      <th>賣出金額</th>\n",
       "      <th>買賣差額</th>\n",
       "    </tr>\n",
       "  </thead>\n",
       "  <tbody>\n",
       "    <tr>\n",
       "      <th>0</th>\n",
       "      <td>自營商(自行買賣)</td>\n",
       "      <td>1,332,075,890</td>\n",
       "      <td>1,527,085,313</td>\n",
       "      <td>-195,009,423</td>\n",
       "    </tr>\n",
       "    <tr>\n",
       "      <th>1</th>\n",
       "      <td>自營商(避險)</td>\n",
       "      <td>5,053,878,133</td>\n",
       "      <td>5,848,013,670</td>\n",
       "      <td>-794,135,537</td>\n",
       "    </tr>\n",
       "    <tr>\n",
       "      <th>2</th>\n",
       "      <td>投信</td>\n",
       "      <td>877,499,250</td>\n",
       "      <td>1,641,700,150</td>\n",
       "      <td>-764,200,900</td>\n",
       "    </tr>\n",
       "    <tr>\n",
       "      <th>3</th>\n",
       "      <td>外資及陸資(不含外資自營商)</td>\n",
       "      <td>26,111,675,637</td>\n",
       "      <td>35,014,554,368</td>\n",
       "      <td>-8,902,878,731</td>\n",
       "    </tr>\n",
       "    <tr>\n",
       "      <th>4</th>\n",
       "      <td>外資自營商</td>\n",
       "      <td>236,373,220</td>\n",
       "      <td>52,695,290</td>\n",
       "      <td>183,677,930</td>\n",
       "    </tr>\n",
       "    <tr>\n",
       "      <th>5</th>\n",
       "      <td>合計</td>\n",
       "      <td>33,375,128,910</td>\n",
       "      <td>44,031,353,501</td>\n",
       "      <td>-10,656,224,591</td>\n",
       "    </tr>\n",
       "  </tbody>\n",
       "</table>\n",
       "</div>"
      ],
      "text/plain": [
       "             單位名稱            買進金額            賣出金額             買賣差額\n",
       "0       自營商(自行買賣)   1,332,075,890   1,527,085,313     -195,009,423\n",
       "1         自營商(避險)   5,053,878,133   5,848,013,670     -794,135,537\n",
       "2              投信     877,499,250   1,641,700,150     -764,200,900\n",
       "3  外資及陸資(不含外資自營商)  26,111,675,637  35,014,554,368   -8,902,878,731\n",
       "4           外資自營商     236,373,220      52,695,290      183,677,930\n",
       "5              合計  33,375,128,910  44,031,353,501  -10,656,224,591"
      ]
     },
     "execution_count": 27,
     "metadata": {},
     "output_type": "execute_result"
    }
   ],
   "source": [
    "import pandas as pd, numpy as np\n",
    "pd.DataFrame(data['data'], columns=data['fields'])"
   ]
  },
  {
   "cell_type": "code",
   "execution_count": null,
   "metadata": {},
   "outputs": [],
   "source": []
  },
  {
   "cell_type": "code",
   "execution_count": null,
   "metadata": {},
   "outputs": [],
   "source": []
  },
  {
   "cell_type": "markdown",
   "metadata": {},
   "source": [
    "### 如何產生不同天期的交易資訊? Get Trading Info of Different Days"
   ]
  },
  {
   "cell_type": "code",
   "execution_count": 1,
   "metadata": {},
   "outputs": [],
   "source": [
    "# http://www.largitdata.com/course/22/"
   ]
  },
  {
   "cell_type": "code",
   "execution_count": 2,
   "metadata": {},
   "outputs": [
    {
     "name": "stdout",
     "output_type": "stream",
     "text": [
      "2018-04-05\n",
      "2018-04-06\n",
      "2018-04-04\n"
     ]
    }
   ],
   "source": [
    "from datetime import date, timedelta, datetime\n",
    "import time \n",
    "\n",
    "print(date.today())\n",
    "print(date.today() + timedelta(days=1))\n",
    "print(date.today() + timedelta(days=-1))"
   ]
  },
  {
   "cell_type": "code",
   "execution_count": 3,
   "metadata": {},
   "outputs": [
    {
     "name": "stdout",
     "output_type": "stream",
     "text": [
      "['2018', '04', '05']\n",
      "107-04-05\n"
     ]
    }
   ],
   "source": [
    "dayarray = str(date.today()).split('-') #根據 '-' 去分割\n",
    "print(dayarray)\n",
    "print('-'.join([str(int(dayarray[0])-1911), dayarray[1], dayarray[2]])) #在每個element 中間以 '-'連接"
   ]
  },
  {
   "cell_type": "code",
   "execution_count": 4,
   "metadata": {},
   "outputs": [
    {
     "data": {
      "text/html": [
       "<div>\n",
       "<style scoped>\n",
       "    .dataframe tbody tr th:only-of-type {\n",
       "        vertical-align: middle;\n",
       "    }\n",
       "\n",
       "    .dataframe tbody tr th {\n",
       "        vertical-align: top;\n",
       "    }\n",
       "\n",
       "    .dataframe thead th {\n",
       "        text-align: right;\n",
       "    }\n",
       "</style>\n",
       "<table border=\"1\" class=\"dataframe\">\n",
       "  <thead>\n",
       "    <tr style=\"text-align: right;\">\n",
       "      <th></th>\n",
       "      <th>單位名稱</th>\n",
       "      <th>買進金額</th>\n",
       "      <th>賣出金額</th>\n",
       "      <th>買賣差額</th>\n",
       "    </tr>\n",
       "  </thead>\n",
       "  <tbody>\n",
       "    <tr>\n",
       "      <th>0</th>\n",
       "      <td>自營商(自行買賣)</td>\n",
       "      <td>1335596870</td>\n",
       "      <td>1352466850</td>\n",
       "      <td>-16869980</td>\n",
       "    </tr>\n",
       "    <tr>\n",
       "      <th>1</th>\n",
       "      <td>自營商(避險)</td>\n",
       "      <td>4847110815</td>\n",
       "      <td>5949424569</td>\n",
       "      <td>-1102313754</td>\n",
       "    </tr>\n",
       "    <tr>\n",
       "      <th>2</th>\n",
       "      <td>投信</td>\n",
       "      <td>1119585900</td>\n",
       "      <td>1393401480</td>\n",
       "      <td>-273815580</td>\n",
       "    </tr>\n",
       "    <tr>\n",
       "      <th>3</th>\n",
       "      <td>外資及陸資(不含外資自營商)</td>\n",
       "      <td>16729913873</td>\n",
       "      <td>18839357363</td>\n",
       "      <td>-2109443490</td>\n",
       "    </tr>\n",
       "    <tr>\n",
       "      <th>4</th>\n",
       "      <td>外資自營商</td>\n",
       "      <td>140539490</td>\n",
       "      <td>245214820</td>\n",
       "      <td>-104675330</td>\n",
       "    </tr>\n",
       "    <tr>\n",
       "      <th>5</th>\n",
       "      <td>合計</td>\n",
       "      <td>24032207458</td>\n",
       "      <td>27534650262</td>\n",
       "      <td>-3502442804</td>\n",
       "    </tr>\n",
       "  </tbody>\n",
       "</table>\n",
       "</div>"
      ],
      "text/plain": [
       "             單位名稱         買進金額         賣出金額        買賣差額\n",
       "0       自營商(自行買賣)   1335596870   1352466850   -16869980\n",
       "1         自營商(避險)   4847110815   5949424569 -1102313754\n",
       "2              投信   1119585900   1393401480  -273815580\n",
       "3  外資及陸資(不含外資自營商)  16729913873  18839357363 -2109443490\n",
       "4           外資自營商    140539490    245214820  -104675330\n",
       "5              合計  24032207458  27534650262 -3502442804"
      ]
     },
     "execution_count": 4,
     "metadata": {},
     "output_type": "execute_result"
    }
   ],
   "source": [
    "import requests\n",
    "from bs4 import BeautifulSoup\n",
    "import json\n",
    "import pandas as pd\n",
    "import numpy as np\n",
    "\n",
    "url = 'http://www.twse.com.tw/fund/BFI82U?response=html&dayDate={0}&weekDate={0}&monthDate={0}&type=day'\n",
    "\n",
    "def getTradeValue(dt):\n",
    "#     res = requests.get(url.format(dt))\n",
    "#     if res.encoding != 'utf-8':\n",
    "#         res.encoding = 'utf-8'\n",
    "#     dictionary = res.text.replace(\"'\", \"\\\"\")\n",
    "#     print(dictionary)\n",
    "#     data = json.loads(dictionary)\n",
    "#     data = pd.DataFrame(data['data'], columns=data['fields'])\n",
    "    data = pd.read_html(url.format(dt))[0]\n",
    "    data.columns = data.columns.droplevel()\n",
    "    return data\n",
    "    \n",
    "getTradeValue(str(date.today() - timedelta(days=3)).replace('-', ''))"
   ]
  },
  {
   "cell_type": "code",
   "execution_count": 6,
   "metadata": {},
   "outputs": [
    {
     "name": "stdout",
     "output_type": "stream",
     "text": [
      "20180404\n",
      "20180403\n",
      "             單位名稱         買進金額         賣出金額         買賣差額\n",
      "0       自營商(自行買賣)   1332075890   1527085313   -195009423\n",
      "1         自營商(避險)   5053878133   5848013670   -794135537\n",
      "2              投信    877499250   1641700150   -764200900\n",
      "3  外資及陸資(不含外資自營商)  26111675637  35014554368  -8902878731\n",
      "4           外資自營商    236373220     52695290    183677930\n",
      "5              合計  33375128910  44031353501 -10656224591\n",
      "\n",
      " --------------------\n"
     ]
    }
   ],
   "source": [
    "today = date.today()\n",
    "\n",
    "for i in range(1, 3):\n",
    "    today = today + timedelta(days=-1)\n",
    "    dayarray = str(today).replace('-', '')\n",
    "    try: \n",
    "        print(dayarray)\n",
    "        print(getTradeValue(dayarray))\n",
    "        print('\\n', '-'*20)\n",
    "    except:\n",
    "        continue"
   ]
  },
  {
   "cell_type": "code",
   "execution_count": null,
   "metadata": {},
   "outputs": [],
   "source": []
  },
  {
   "cell_type": "markdown",
   "metadata": {},
   "source": [
    "### Store All Data into MobgoDB"
   ]
  },
  {
   "cell_type": "code",
   "execution_count": 1,
   "metadata": {},
   "outputs": [],
   "source": [
    "'''\n",
    "id: int\n",
    "item: str\n",
    "total_buy: int\n",
    "total_sell: int\n",
    "difference: int\n",
    "date: datetime\n",
    "'''\n",
    "from pymongo import MongoClient\n",
    "import pymongo\n",
    "from datetime import date, timedelta, datetime\n",
    "import json\n",
    "import pandas as pd\n",
    "import numpy as np\n",
    "from bson.objectid import ObjectId\n",
    "import pprint\n",
    "from tqdm import tqdm\n",
    "import time"
   ]
  },
  {
   "cell_type": "code",
   "execution_count": 2,
   "metadata": {},
   "outputs": [],
   "source": [
    "client = MongoClient('mongodb://finance:27017/')\n",
    "db = client.stock\n",
    "collect = db['institutional-investors-trading-values']\n",
    "# collect.create_index('date', unique=True)"
   ]
  },
  {
   "cell_type": "code",
   "execution_count": 5,
   "metadata": {},
   "outputs": [
    {
     "data": {
      "text/plain": [
       "[{'date': '2018-03-30',\n",
       "  'institution': '自營商(自行買賣)',\n",
       "  'net': -688266239,\n",
       "  'total_buy': 1363463280,\n",
       "  'total_sell': 2051729519},\n",
       " {'date': '2018-03-30',\n",
       "  'institution': '自營商(避險)',\n",
       "  'net': 965034063,\n",
       "  'total_buy': 5886687328,\n",
       "  'total_sell': 4921653265},\n",
       " {'date': '2018-03-30',\n",
       "  'institution': '投信',\n",
       "  'net': -451886027,\n",
       "  'total_buy': 1432709696,\n",
       "  'total_sell': 1884595723},\n",
       " {'date': '2018-03-30',\n",
       "  'institution': '外資及陸資(不含外資自營商)',\n",
       "  'net': 1956930179,\n",
       "  'total_buy': 21635169030,\n",
       "  'total_sell': 19678238851},\n",
       " {'date': '2018-03-30',\n",
       "  'institution': '外資自營商',\n",
       "  'net': -34348660,\n",
       "  'total_buy': 233487630,\n",
       "  'total_sell': 267836290},\n",
       " {'date': '2018-03-30',\n",
       "  'institution': '合計',\n",
       "  'net': 1781811976,\n",
       "  'total_buy': 30318029334,\n",
       "  'total_sell': 28536217358}]"
      ]
     },
     "execution_count": 5,
     "metadata": {},
     "output_type": "execute_result"
    }
   ],
   "source": [
    "url = 'http://www.twse.com.tw/fund/BFI82U?response=html&dayDate={0}&weekDate={0}&monthDate={0}&type=day'\n",
    "\n",
    "def getTradeValue(dt):\n",
    "    data = pd.read_html(url.format(dt))[0]\n",
    "    data.columns = data.columns.droplevel()\n",
    "    return data\n",
    "\n",
    "def str_to_json(x):\n",
    "    dictionary = x.replace(\"'\", \"\\\"\")\n",
    "    data = json.loads(dictionary)\n",
    "    return data\n",
    "    \n",
    "day = str(date.today() - timedelta(days=10))\n",
    "data = getTradeValue(day.replace('-', ''))\n",
    "data['date'] = day\n",
    "data.columns = ['institution', 'total_buy', 'total_sell', 'net', 'date']\n",
    "data.apply(lambda s: str_to_json(s.to_json()), axis=1).values.tolist()"
   ]
  },
  {
   "cell_type": "code",
   "execution_count": 6,
   "metadata": {},
   "outputs": [
    {
     "name": "stderr",
     "output_type": "stream",
     "text": [
      "\r",
      "  0%|          | 0/16 [00:00<?, ?it/s]"
     ]
    },
    {
     "name": "stdout",
     "output_type": "stream",
     "text": [
      "2018-03-26 00:00:00\n"
     ]
    },
    {
     "name": "stderr",
     "output_type": "stream",
     "text": [
      "\r",
      "  6%|▋         | 1/16 [00:05<01:16,  5.08s/it]"
     ]
    },
    {
     "name": "stdout",
     "output_type": "stream",
     "text": [
      "2018-03-27 00:00:00\n"
     ]
    },
    {
     "name": "stderr",
     "output_type": "stream",
     "text": [
      "\r",
      " 12%|█▎        | 2/16 [00:10<01:10,  5.07s/it]"
     ]
    },
    {
     "name": "stdout",
     "output_type": "stream",
     "text": [
      "2018-03-28 00:00:00\n"
     ]
    },
    {
     "name": "stderr",
     "output_type": "stream",
     "text": [
      "\r",
      " 19%|█▉        | 3/16 [00:15<01:05,  5.07s/it]"
     ]
    },
    {
     "name": "stdout",
     "output_type": "stream",
     "text": [
      "2018-03-29 00:00:00\n"
     ]
    },
    {
     "name": "stderr",
     "output_type": "stream",
     "text": [
      "\r",
      " 25%|██▌       | 4/16 [00:20<01:00,  5.07s/it]"
     ]
    },
    {
     "name": "stdout",
     "output_type": "stream",
     "text": [
      "2018-03-30 00:00:00\n"
     ]
    },
    {
     "name": "stderr",
     "output_type": "stream",
     "text": [
      "\r",
      " 31%|███▏      | 5/16 [00:25<00:55,  5.06s/it]"
     ]
    },
    {
     "name": "stdout",
     "output_type": "stream",
     "text": [
      "2018-03-31 00:00:00\n"
     ]
    },
    {
     "name": "stderr",
     "output_type": "stream",
     "text": [
      "\r",
      " 38%|███▊      | 6/16 [00:30<00:50,  5.06s/it]"
     ]
    },
    {
     "name": "stdout",
     "output_type": "stream",
     "text": [
      "2018-04-01 00:00:00\n",
      "2018-04-02 00:00:00\n"
     ]
    },
    {
     "name": "stderr",
     "output_type": "stream",
     "text": [
      "\r",
      " 44%|████▍     | 7/16 [00:40<00:59,  6.58s/it]"
     ]
    },
    {
     "name": "stdout",
     "output_type": "stream",
     "text": [
      "2018-04-03 00:00:00\n"
     ]
    },
    {
     "name": "stderr",
     "output_type": "stream",
     "text": [
      "\r",
      " 50%|█████     | 8/16 [00:45<00:49,  6.13s/it]"
     ]
    },
    {
     "name": "stdout",
     "output_type": "stream",
     "text": [
      "2018-04-04 00:00:00\n",
      "2018-04-05 00:00:00\n",
      "2018-04-06 00:00:00\n",
      "2018-04-07 00:00:00\n",
      "2018-04-08 00:00:00\n",
      "2018-04-09 00:00:00\n"
     ]
    },
    {
     "name": "stderr",
     "output_type": "stream",
     "text": [
      "\r",
      " 56%|█████▋    | 9/16 [01:16<01:33, 13.42s/it]"
     ]
    },
    {
     "name": "stdout",
     "output_type": "stream",
     "text": [
      "2018-04-10 00:00:00\n"
     ]
    },
    {
     "name": "stderr",
     "output_type": "stream",
     "text": [
      "\n"
     ]
    },
    {
     "data": {
      "text/plain": [
       "<pymongo.results.InsertManyResult at 0x7fe940025748>"
      ]
     },
     "execution_count": 6,
     "metadata": {},
     "output_type": "execute_result"
    }
   ],
   "source": [
    "requestDate = datetime(2018, 3, 25)\n",
    "crawled = []\n",
    "\n",
    "# reset collection\n",
    "collect.delete_many({})\n",
    "\n",
    "runs = (datetime.today() - requestDate).days\n",
    "pbar = tqdm(total = runs+1)\n",
    "while requestDate < datetime.today():\n",
    "    requestDate = requestDate + timedelta(days=1)\n",
    "    day = datetime.strftime(requestDate, '%Y-%m-%d')\n",
    "    print(requestDate)\n",
    "    \n",
    "    time.sleep(5)\n",
    "    try: \n",
    "        data = getTradeValue(day.replace('-', ''))\n",
    "        data['date'] = day\n",
    "        data.columns = ['institution', 'total_buy', 'total_sell', 'net', 'date']\n",
    "        crawled.extend(data.apply(lambda s: str_to_json(s.to_json()), axis=1).values.tolist())\n",
    "        pbar.update(1)\n",
    "    except:\n",
    "        continue\n",
    "\n",
    "pbar.close()\n",
    "collect.insert_many(crawled)"
   ]
  },
  {
   "cell_type": "code",
   "execution_count": 3,
   "metadata": {},
   "outputs": [
    {
     "name": "stdout",
     "output_type": "stream",
     "text": [
      "{'_id': ObjectId('5acb11bce88ed50c6346c030'),\n",
      " 'date': '2018-04-02',\n",
      " 'institution': '自營商(自行買賣)',\n",
      " 'net': -16869980,\n",
      " 'total_buy': 1335596870,\n",
      " 'total_sell': 1352466850}\n",
      "{'_id': ObjectId('5acb11bce88ed50c6346c031'),\n",
      " 'date': '2018-04-02',\n",
      " 'institution': '自營商(避險)',\n",
      " 'net': -1102313754,\n",
      " 'total_buy': 4847110815,\n",
      " 'total_sell': 5949424569}\n",
      "{'_id': ObjectId('5acb11bce88ed50c6346c032'),\n",
      " 'date': '2018-04-02',\n",
      " 'institution': '投信',\n",
      " 'net': -273815580,\n",
      " 'total_buy': 1119585900,\n",
      " 'total_sell': 1393401480}\n",
      "{'_id': ObjectId('5acb11bce88ed50c6346c033'),\n",
      " 'date': '2018-04-02',\n",
      " 'institution': '外資及陸資(不含外資自營商)',\n",
      " 'net': -2109443490,\n",
      " 'total_buy': 16729913873,\n",
      " 'total_sell': 18839357363}\n",
      "{'_id': ObjectId('5acb11bce88ed50c6346c034'),\n",
      " 'date': '2018-04-02',\n",
      " 'institution': '外資自營商',\n",
      " 'net': -104675330,\n",
      " 'total_buy': 140539490,\n",
      " 'total_sell': 245214820}\n",
      "{'_id': ObjectId('5acb11bce88ed50c6346c035'),\n",
      " 'date': '2018-04-02',\n",
      " 'institution': '合計',\n",
      " 'net': -3502442804,\n",
      " 'total_buy': 24032207458,\n",
      " 'total_sell': 27534650262}\n",
      "{'_id': ObjectId('5acb11bce88ed50c6346c036'),\n",
      " 'date': '2018-04-03',\n",
      " 'institution': '自營商(自行買賣)',\n",
      " 'net': -195009423,\n",
      " 'total_buy': 1332075890,\n",
      " 'total_sell': 1527085313}\n",
      "{'_id': ObjectId('5acb11bce88ed50c6346c037'),\n",
      " 'date': '2018-04-03',\n",
      " 'institution': '自營商(避險)',\n",
      " 'net': -794135537,\n",
      " 'total_buy': 5053878133,\n",
      " 'total_sell': 5848013670}\n",
      "{'_id': ObjectId('5acb11bce88ed50c6346c038'),\n",
      " 'date': '2018-04-03',\n",
      " 'institution': '投信',\n",
      " 'net': -764200900,\n",
      " 'total_buy': 877499250,\n",
      " 'total_sell': 1641700150}\n",
      "{'_id': ObjectId('5acb11bce88ed50c6346c039'),\n",
      " 'date': '2018-04-03',\n",
      " 'institution': '外資及陸資(不含外資自營商)',\n",
      " 'net': -8902878731,\n",
      " 'total_buy': 26111675637,\n",
      " 'total_sell': 35014554368}\n",
      "{'_id': ObjectId('5acb11bce88ed50c6346c03a'),\n",
      " 'date': '2018-04-03',\n",
      " 'institution': '外資自營商',\n",
      " 'net': 183677930,\n",
      " 'total_buy': 236373220,\n",
      " 'total_sell': 52695290}\n",
      "{'_id': ObjectId('5acb11bce88ed50c6346c03b'),\n",
      " 'date': '2018-04-03',\n",
      " 'institution': '合計',\n",
      " 'net': -10656224591,\n",
      " 'total_buy': 33375128910,\n",
      " 'total_sell': 44031353501}\n",
      "{'_id': ObjectId('5acb11bce88ed50c6346c03c'),\n",
      " 'date': '2018-04-09',\n",
      " 'institution': '自營商(自行買賣)',\n",
      " 'net': 74044493,\n",
      " 'total_buy': 1414184320,\n",
      " 'total_sell': 1340139827}\n",
      "{'_id': ObjectId('5acb11bce88ed50c6346c03d'),\n",
      " 'date': '2018-04-09',\n",
      " 'institution': '自營商(避險)',\n",
      " 'net': -1419494,\n",
      " 'total_buy': 5296851139,\n",
      " 'total_sell': 5298270633}\n",
      "{'_id': ObjectId('5acb11bce88ed50c6346c03e'),\n",
      " 'date': '2018-04-09',\n",
      " 'institution': '投信',\n",
      " 'net': -33162204,\n",
      " 'total_buy': 664521100,\n",
      " 'total_sell': 697683304}\n",
      "{'_id': ObjectId('5acb11bce88ed50c6346c03f'),\n",
      " 'date': '2018-04-09',\n",
      " 'institution': '外資及陸資(不含外資自營商)',\n",
      " 'net': -962832954,\n",
      " 'total_buy': 41035884726,\n",
      " 'total_sell': 41998717680}\n",
      "{'_id': ObjectId('5acb11bce88ed50c6346c040'),\n",
      " 'date': '2018-04-09',\n",
      " 'institution': '外資自營商',\n",
      " 'net': -360112720,\n",
      " 'total_buy': 47777350,\n",
      " 'total_sell': 407890070}\n",
      "{'_id': ObjectId('5acb11bce88ed50c6346c041'),\n",
      " 'date': '2018-04-09',\n",
      " 'institution': '合計',\n",
      " 'net': -923370159,\n",
      " 'total_buy': 48411441285,\n",
      " 'total_sell': 49334811444}\n",
      "18\n"
     ]
    }
   ],
   "source": [
    "i = 0\n",
    "for j in collect.find():\n",
    "    pprint.pprint(j)\n",
    "    i += 1\n",
    "print(i)"
   ]
  },
  {
   "cell_type": "code",
   "execution_count": null,
   "metadata": {},
   "outputs": [],
   "source": []
  }
 ],
 "metadata": {
  "kernelspec": {
   "display_name": "Python 3",
   "language": "python",
   "name": "python3"
  },
  "language_info": {
   "codemirror_mode": {
    "name": "ipython",
    "version": 3
   },
   "file_extension": ".py",
   "mimetype": "text/x-python",
   "name": "python",
   "nbconvert_exporter": "python",
   "pygments_lexer": "ipython3",
   "version": "3.6.5"
  }
 },
 "nbformat": 4,
 "nbformat_minor": 2
}
